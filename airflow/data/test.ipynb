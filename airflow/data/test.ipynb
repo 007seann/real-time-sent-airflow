{
 "cells": [
  {
   "cell_type": "code",
   "execution_count": null,
   "metadata": {
    "vscode": {
     "languageId": "plaintext"
    }
   },
   "outputs": [],
   "source": [
    "import os\n"
   ]
  },
  {
   "cell_type": "code",
   "execution_count": null,
   "metadata": {
    "vscode": {
     "languageId": "plaintext"
    }
   },
   "outputs": [],
   "source": [
    "\n",
    "def count_txt_files(folder_path):\n",
    "    # List all files in the folder\n",
    "    files = os.listdir(folder_path)\n",
    "    \n",
    "    # Filter files with .txt extension\n",
    "    txt_files = [file for file in files if file.endswith(\".txt\")]\n",
    "    \n",
    "    # Return the count\n",
    "    return len(txt_files)\n",
    "\n",
    "# Example usage\n",
    "afolder_path = \"path_to_Afolder/afolder\"  # Replace with the actual path\n",
    "count = count_txt_files(afolder_path)\n",
    "print(f\"Number of .txt files in '{afolder_path}': {count}\")\n"
   ]
  }
 ],
 "metadata": {
  "language_info": {
   "name": "python"
  }
 },
 "nbformat": 4,
 "nbformat_minor": 2
}
